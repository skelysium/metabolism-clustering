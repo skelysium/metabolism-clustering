{
 "cells": [
  {
   "cell_type": "code",
   "execution_count": 5,
   "metadata": {},
   "outputs": [],
   "source": [
    "import libsbml as sb # SBML integration\n",
    "import numpy as np # for making arrays\n",
    "import pandas as pd # for dataframe conversion"
   ]
  },
  {
   "cell_type": "code",
   "execution_count": 6,
   "metadata": {},
   "outputs": [],
   "source": [
    "# pulling data from the SBML file\n",
    "reader = sb.SBMLReader() # open the reader\n",
    "document = reader.readSBMLFromFile(\"iJO1366_e_coli.xml\") # read the file into document\n",
    "model = document.getModel() # and extract the model from the file"
   ]
  },
  {
   "cell_type": "code",
   "execution_count": 7,
   "metadata": {},
   "outputs": [],
   "source": [
    "## Making Connectivity Matrix\n",
    "\n",
    "# setting up\n",
    "specieslist = model.getListOfSpecies() # get a list of all the species\n",
    "rxnslist = model.getListOfReactions() # and of all the reactions\n",
    "numspecies = len(specieslist.getListOfAllElements()) # number of species (non-unique; if 1 species is in two compartments it is recorded twice with 2 different SIDs)\n",
    "numrxns = 2582 # from literature (similarly non-unique)\n",
    "speciesIDs = np.empty(numspecies,dtype=object) # prepare an array that stores only the IDs of every species\n",
    "for s in range(numspecies):\n",
    "    speciesIDs[s] = specieslist.get(s).getId() # and add in all the IDs\n",
    "\n",
    "\n",
    "connect = np.zeros((numspecies,numspecies)) # make an N x N connectivity matrix where N is the number of species/substrates. we will have that if two substrates with speciesIDs indices i and j are linked, connect[i,j] = connect[j,i] = 1; otherwise 0.\n",
    "for r in range(numrxns): # for every reaction\n",
    "    rxn = rxnslist.get(r)\n",
    "    numreacts = rxn.getNumReactants() # find the number of reactants\n",
    "    numprods = rxn.getNumProducts() # and products\n",
    "    if numreacts+numprods>1: # if there are links to record...\n",
    "        substrates = np.empty(numreacts+numprods,dtype=int) # the total number of involved substrates will be reactants+products\n",
    "        if numreacts>0: # if reactants are involved...\n",
    "            for i in range(numreacts): # for every reactant...\n",
    "                species = rxn.getReactant(i).getSpecies() # store its species id\n",
    "                speciesindex = np.where(speciesIDs == species)[0][0] # store the corresponding speciesIDs index\n",
    "                substrates[i] = speciesindex # add the speciesIDs index to the list of substrates\n",
    "        if numprods>0: # now do the same for products\n",
    "            for i in range(numprods):\n",
    "                species = rxn.getProduct(i).getSpecies()\n",
    "                speciesindex = np.where(speciesIDs == species)[0][0]\n",
    "                substrates[i+numreacts] = speciesindex\n",
    "        for i in np.arange(len(substrates)): # for each recorded substrate...\n",
    "            linkindexes = np.delete(substrates,i) # make a list of the other recorded substrates\n",
    "            for n in np.arange(len(linkindexes)): # and for each of them...\n",
    "                connect[substrates[i],linkindexes[n]] = 1 # put a '1' in the linkage cell corresponding to the two linked substrates"
   ]
  },
  {
   "cell_type": "code",
   "execution_count": 8,
   "metadata": {},
   "outputs": [],
   "source": [
    "connectpd = pd.DataFrame(connect) # convert to dataframe for file saving\n",
    "# connectpd.to_csv(\"C:/Users/camer/OneDrive - The University of Chicago/College/Classes/BIOS 26211/final project/iJO1366 E coli model/connectivity.csv\") # save the file!"
   ]
  },
  {
   "cell_type": "code",
   "execution_count": 63,
   "metadata": {},
   "outputs": [
    {
     "name": "stdout",
     "output_type": "stream",
     "text": [
      "[259 466]\n",
      "[466]\n"
     ]
    }
   ],
   "source": [
    "specieslinks = np.zeros(len(speciesIDs))\n",
    "for row in np.arange(len(connect[:,0])):\n",
    "    specieslinks[row] = sum(connect[row,:])\n",
    "\n",
    "nodecolors = np.empty(len(specieslinks),dtype=str)\n",
    "\n",
    "nodecolors[:] = 'a' # set all nodes to black\n",
    "lnks = np.where(connect[262,:]==1)[0]\n",
    "print(lnks)\n",
    "print(lnks[lnks != 259])\n",
    "\n",
    "for end in np.where(specieslinks==1)[0]: # for each node with only 1 link...\n",
    "    prevnode = end\n",
    "    node = np.where(connect[end,:]==1)[0][0] # find and jump to the single linked node\n",
    "    nodelinkcount = specieslinks[node] # count the number of links\n",
    "    while nodelinkcount==2: # as long as the present node has 2 links\n",
    "        nodecolors[node] = 'g' # color the node green\n",
    "        nodelinks = np.where(connect[node,:]==1) # find the two connections\n",
    "        nextnode = nodelinks[nodelinks != prevnode] # target the node you haven't been to yet\n",
    "        prevnode = node # make the jump !\n",
    "        node = nextnode\n",
    "        nodelinkcount = specieslinks[node] # see how many links the new node has. if it's 2, repeat; if not, find the next node with only 1 link and start over\n",
    "\n",
    "for node in np.where(specieslinks==2)[0]: # look at all the 2-link nodes\n",
    "    if nodecolors[node] != 'g': # if it's not green\n",
    "        nodecolors[node] = 'u' # make it blue\n",
    "\n",
    "# next: coloring branching hairs green, coloring remaining red, performing reduction\n",
    "\n",
    "\n",
    "\n",
    "\n",
    "\n"
   ]
  }
 ],
 "metadata": {
  "kernelspec": {
   "display_name": "Python 3",
   "language": "python",
   "name": "python3"
  },
  "language_info": {
   "codemirror_mode": {
    "name": "ipython",
    "version": 3
   },
   "file_extension": ".py",
   "mimetype": "text/x-python",
   "name": "python",
   "nbconvert_exporter": "python",
   "pygments_lexer": "ipython3",
   "version": "3.11.5"
  }
 },
 "nbformat": 4,
 "nbformat_minor": 2
}
