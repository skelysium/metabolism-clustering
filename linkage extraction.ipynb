{
 "cells": [
  {
   "cell_type": "code",
   "execution_count": 1,
   "metadata": {},
   "outputs": [],
   "source": [
    "import libsbml as sb # SBML integration\n",
    "import numpy as np # for making arrays\n",
    "import pandas as pd # for dataframe conversion"
   ]
  },
  {
   "cell_type": "code",
   "execution_count": 2,
   "metadata": {},
   "outputs": [],
   "source": [
    "# pulling data from the SBML file\n",
    "reader = sb.SBMLReader() # open the reader\n",
    "document = reader.readSBMLFromFile(\"C:/Users/camer/OneDrive - The University of Chicago/College/Classes/BIOS 26211/final project/iJO1366 E coli model/msb201165-sup-0003.xml\") # read the file into document\n",
    "model = document.getModel() # and extract the model from the file"
   ]
  },
  {
   "cell_type": "code",
   "execution_count": 3,
   "metadata": {},
   "outputs": [],
   "source": [
    "## Making Connectivity Matrix\n",
    "\n",
    "# setting up\n",
    "specieslist = model.getListOfSpecies() # get a list of all the species\n",
    "rxnslist = model.getListOfReactions() # and of all the reactions\n",
    "numspecies = len(specieslist.getListOfAllElements()) # number of species (non-unique; if 1 species is in two compartments it is recorded twice with 2 different SIDs)\n",
    "numrxns = 2582 # from literature (similarly non-unique)\n",
    "speciesIDs = np.empty(numspecies,dtype=object) # prepare an array that stores only the IDs of every species\n",
    "for s in range(numspecies):\n",
    "    speciesIDs[s] = specieslist.get(s).getId() # and add in all the IDs\n",
    "\n",
    "\n",
    "connect = np.zeros((numspecies,numspecies)) # make an N x N connectivity matrix where N is the number of species/substrates. we will have that if two substrates with speciesIDs indices i and j are linked, connect[i,j] = connect[j,i] = 1; otherwise 0.\n",
    "for r in range(numrxns): # for every reaction\n",
    "    rxn = rxnslist.get(r)\n",
    "    numreacts = rxn.getNumReactants() # find the number of reactants\n",
    "    numprods = rxn.getNumProducts() # and products\n",
    "    if numreacts+numprods>1: # if there are links to record...\n",
    "        substrates = np.empty(numreacts+numprods,dtype=int) # the total number of involved substrates will be reactants+products\n",
    "        if numreacts>0: # if reactants are involved...\n",
    "            for i in range(numreacts): # for every reactant...\n",
    "                species = rxn.getReactant(i).getSpecies() # store its species id\n",
    "                speciesindex = np.where(speciesIDs == species)[0][0] # store the corresponding speciesIDs index\n",
    "                substrates[i] = speciesindex # add the speciesIDs index to the list of substrates\n",
    "        if numprods>0: # now do the same for products\n",
    "            for i in range(numprods):\n",
    "                species = rxn.getProduct(i).getSpecies()\n",
    "                speciesindex = np.where(speciesIDs == species)[0][0]\n",
    "                substrates[i+numreacts] = speciesindex\n",
    "        for i in np.arange(len(substrates)): # for each recorded substrate...\n",
    "            linkindexes = np.delete(substrates,i) # make a list of the other recorded substrates\n",
    "            for n in np.arange(len(linkindexes)): # and for each of them...\n",
    "                connect[substrates[i],linkindexes[n]] = 1 # put a '1' in the linkage cell corresponding to the two linked substrates"
   ]
  },
  {
   "cell_type": "code",
   "execution_count": 4,
   "metadata": {},
   "outputs": [],
   "source": [
    "connectpd = pd.DataFrame(connect) # convert to dataframe for file saving\n",
    "connectpd.to_csv(\"C:/Users/camer/OneDrive - The University of Chicago/College/Classes/BIOS 26211/final project/iJO1366 E coli model/connectivity.csv\") # save the file!"
   ]
  }
 ],
 "metadata": {
  "kernelspec": {
   "display_name": "Python 3",
   "language": "python",
   "name": "python3"
  },
  "language_info": {
   "codemirror_mode": {
    "name": "ipython",
    "version": 3
   },
   "file_extension": ".py",
   "mimetype": "text/x-python",
   "name": "python",
   "nbconvert_exporter": "python",
   "pygments_lexer": "ipython3",
   "version": "3.11.5"
  }
 },
 "nbformat": 4,
 "nbformat_minor": 2
}
